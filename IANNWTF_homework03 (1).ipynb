{
  "nbformat": 4,
  "nbformat_minor": 0,
  "metadata": {
    "colab": {
      "name": "IANNWTF_homework03.ipynb",
      "provenance": [],
      "collapsed_sections": []
    },
    "kernelspec": {
      "name": "python3",
      "display_name": "Python 3"
    },
    "widgets": {
      "application/vnd.jupyter.widget-state+json": {
        "3a4bec18980d4070a8f6c6de9d765804": {
          "model_module": "@jupyter-widgets/controls",
          "model_name": "HBoxModel",
          "state": {
            "_view_name": "HBoxView",
            "_dom_classes": [],
            "_model_name": "HBoxModel",
            "_view_module": "@jupyter-widgets/controls",
            "_model_module_version": "1.5.0",
            "_view_count": null,
            "_view_module_version": "1.5.0",
            "box_style": "",
            "layout": "IPY_MODEL_dadbeb4498634457a695df932b0cf2b1",
            "_model_module": "@jupyter-widgets/controls",
            "children": [
              "IPY_MODEL_be50978ed005494e99ae214512b043a1",
              "IPY_MODEL_19c6612e765c4ba8a725352f468d6438"
            ]
          }
        },
        "dadbeb4498634457a695df932b0cf2b1": {
          "model_module": "@jupyter-widgets/base",
          "model_name": "LayoutModel",
          "state": {
            "_view_name": "LayoutView",
            "grid_template_rows": null,
            "right": null,
            "justify_content": null,
            "_view_module": "@jupyter-widgets/base",
            "overflow": null,
            "_model_module_version": "1.2.0",
            "_view_count": null,
            "flex_flow": null,
            "width": null,
            "min_width": null,
            "border": null,
            "align_items": null,
            "bottom": null,
            "_model_module": "@jupyter-widgets/base",
            "top": null,
            "grid_column": null,
            "overflow_y": null,
            "overflow_x": null,
            "grid_auto_flow": null,
            "grid_area": null,
            "grid_template_columns": null,
            "flex": null,
            "_model_name": "LayoutModel",
            "justify_items": null,
            "grid_row": null,
            "max_height": null,
            "align_content": null,
            "visibility": null,
            "align_self": null,
            "height": null,
            "min_height": null,
            "padding": null,
            "grid_auto_rows": null,
            "grid_gap": null,
            "max_width": null,
            "order": null,
            "_view_module_version": "1.2.0",
            "grid_template_areas": null,
            "object_position": null,
            "object_fit": null,
            "grid_auto_columns": null,
            "margin": null,
            "display": null,
            "left": null
          }
        },
        "be50978ed005494e99ae214512b043a1": {
          "model_module": "@jupyter-widgets/controls",
          "model_name": "FloatProgressModel",
          "state": {
            "_view_name": "ProgressView",
            "style": "IPY_MODEL_f979fbaff8314fe68ebec698ed54b7b7",
            "_dom_classes": [],
            "description": "Dl Completed...: 100%",
            "_model_name": "FloatProgressModel",
            "bar_style": "success",
            "max": 12,
            "_view_module": "@jupyter-widgets/controls",
            "_model_module_version": "1.5.0",
            "value": 12,
            "_view_count": null,
            "_view_module_version": "1.5.0",
            "orientation": "horizontal",
            "min": 0,
            "description_tooltip": null,
            "_model_module": "@jupyter-widgets/controls",
            "layout": "IPY_MODEL_6552380994e04c328e5be58af8d2b94a"
          }
        },
        "19c6612e765c4ba8a725352f468d6438": {
          "model_module": "@jupyter-widgets/controls",
          "model_name": "HTMLModel",
          "state": {
            "_view_name": "HTMLView",
            "style": "IPY_MODEL_a501ae5509114b62b585e6cecf02bbcf",
            "_dom_classes": [],
            "description": "",
            "_model_name": "HTMLModel",
            "placeholder": "​",
            "_view_module": "@jupyter-widgets/controls",
            "_model_module_version": "1.5.0",
            "value": " 12/12 [00:09&lt;00:00,  1.25 file/s]",
            "_view_count": null,
            "_view_module_version": "1.5.0",
            "description_tooltip": null,
            "_model_module": "@jupyter-widgets/controls",
            "layout": "IPY_MODEL_5dcd49814f69462385b7038668ff2434"
          }
        },
        "f979fbaff8314fe68ebec698ed54b7b7": {
          "model_module": "@jupyter-widgets/controls",
          "model_name": "ProgressStyleModel",
          "state": {
            "_view_name": "StyleView",
            "_model_name": "ProgressStyleModel",
            "description_width": "initial",
            "_view_module": "@jupyter-widgets/base",
            "_model_module_version": "1.5.0",
            "_view_count": null,
            "_view_module_version": "1.2.0",
            "bar_color": null,
            "_model_module": "@jupyter-widgets/controls"
          }
        },
        "6552380994e04c328e5be58af8d2b94a": {
          "model_module": "@jupyter-widgets/base",
          "model_name": "LayoutModel",
          "state": {
            "_view_name": "LayoutView",
            "grid_template_rows": null,
            "right": null,
            "justify_content": null,
            "_view_module": "@jupyter-widgets/base",
            "overflow": null,
            "_model_module_version": "1.2.0",
            "_view_count": null,
            "flex_flow": null,
            "width": null,
            "min_width": null,
            "border": null,
            "align_items": null,
            "bottom": null,
            "_model_module": "@jupyter-widgets/base",
            "top": null,
            "grid_column": null,
            "overflow_y": null,
            "overflow_x": null,
            "grid_auto_flow": null,
            "grid_area": null,
            "grid_template_columns": null,
            "flex": null,
            "_model_name": "LayoutModel",
            "justify_items": null,
            "grid_row": null,
            "max_height": null,
            "align_content": null,
            "visibility": null,
            "align_self": null,
            "height": null,
            "min_height": null,
            "padding": null,
            "grid_auto_rows": null,
            "grid_gap": null,
            "max_width": null,
            "order": null,
            "_view_module_version": "1.2.0",
            "grid_template_areas": null,
            "object_position": null,
            "object_fit": null,
            "grid_auto_columns": null,
            "margin": null,
            "display": null,
            "left": null
          }
        },
        "a501ae5509114b62b585e6cecf02bbcf": {
          "model_module": "@jupyter-widgets/controls",
          "model_name": "DescriptionStyleModel",
          "state": {
            "_view_name": "StyleView",
            "_model_name": "DescriptionStyleModel",
            "description_width": "",
            "_view_module": "@jupyter-widgets/base",
            "_model_module_version": "1.5.0",
            "_view_count": null,
            "_view_module_version": "1.2.0",
            "_model_module": "@jupyter-widgets/controls"
          }
        },
        "5dcd49814f69462385b7038668ff2434": {
          "model_module": "@jupyter-widgets/base",
          "model_name": "LayoutModel",
          "state": {
            "_view_name": "LayoutView",
            "grid_template_rows": null,
            "right": null,
            "justify_content": null,
            "_view_module": "@jupyter-widgets/base",
            "overflow": null,
            "_model_module_version": "1.2.0",
            "_view_count": null,
            "flex_flow": null,
            "width": null,
            "min_width": null,
            "border": null,
            "align_items": null,
            "bottom": null,
            "_model_module": "@jupyter-widgets/base",
            "top": null,
            "grid_column": null,
            "overflow_y": null,
            "overflow_x": null,
            "grid_auto_flow": null,
            "grid_area": null,
            "grid_template_columns": null,
            "flex": null,
            "_model_name": "LayoutModel",
            "justify_items": null,
            "grid_row": null,
            "max_height": null,
            "align_content": null,
            "visibility": null,
            "align_self": null,
            "height": null,
            "min_height": null,
            "padding": null,
            "grid_auto_rows": null,
            "grid_gap": null,
            "max_width": null,
            "order": null,
            "_view_module_version": "1.2.0",
            "grid_template_areas": null,
            "object_position": null,
            "object_fit": null,
            "grid_auto_columns": null,
            "margin": null,
            "display": null,
            "left": null
          }
        }
      }
    },
    "accelerator": "GPU"
  },
  "cells": [
    {
      "cell_type": "markdown",
      "metadata": {
        "id": "B0B4NT_TM8Qy"
      },
      "source": [
        "Importing the used Modules"
      ]
    },
    {
      "cell_type": "code",
      "metadata": {
        "id": "B0yNPj0Nw0l1"
      },
      "source": [
        "import tensorflow.compat.v2 as tf\n",
        "import tensorflow_datasets as tfds\n",
        "import numpy as np\n",
        "import matplotlib.pyplot as plt\n",
        "import time"
      ],
      "execution_count": 1,
      "outputs": []
    },
    {
      "cell_type": "markdown",
      "metadata": {
        "id": "QwetUZgBwksy"
      },
      "source": [
        "#1. the Data"
      ]
    },
    {
      "cell_type": "markdown",
      "metadata": {
        "id": "be2FcmoCDSQZ"
      },
      "source": [
        "In this part we have look at the data and preprocess it, so that our neural Network can fully understand it."
      ]
    },
    {
      "cell_type": "markdown",
      "metadata": {
        "id": "5oOFsEMaMVeD"
      },
      "source": [
        "#1.1 Loading and Splitting"
      ]
    },
    {
      "cell_type": "markdown",
      "metadata": {
        "id": "ElcuySeZMb6F"
      },
      "source": [
        "In this part we import the Data and Split it into the requested pieces."
      ]
    },
    {
      "cell_type": "code",
      "metadata": {
        "id": "Axw-9VVqokQp",
        "colab": {
          "base_uri": "https://localhost:8080/",
          "height": 209,
          "referenced_widgets": [
            "3a4bec18980d4070a8f6c6de9d765804",
            "dadbeb4498634457a695df932b0cf2b1",
            "be50978ed005494e99ae214512b043a1",
            "19c6612e765c4ba8a725352f468d6438",
            "f979fbaff8314fe68ebec698ed54b7b7",
            "6552380994e04c328e5be58af8d2b94a",
            "a501ae5509114b62b585e6cecf02bbcf",
            "5dcd49814f69462385b7038668ff2434"
          ]
        },
        "outputId": "2e430681-2dd8-486e-da44-7516de8d6f68"
      },
      "source": [
        "train_data, test_data = tfds.load(\n",
        "    name=\"genomics_ood\",                    # name of the ds\n",
        "    split=['train[:100000]','test[:1000]'], # requested train-test-splits. This takes the first 100 000 of the training data and the first 1000 of the test-data\n",
        "    as_supervised=True)                     # imports the labels as Tupels: (Input, Label)"
      ],
      "execution_count": 2,
      "outputs": [
        {
          "output_type": "stream",
          "text": [
            "\u001b[1mDownloading and preparing dataset genomics_ood/0.0.1 (download: Unknown size, generated: 926.87 MiB, total: 926.87 MiB) to /root/tensorflow_datasets/genomics_ood/0.0.1...\u001b[0m\n"
          ],
          "name": "stdout"
        },
        {
          "output_type": "stream",
          "text": [
            "WARNING:absl:Dataset genomics_ood is hosted on GCS. It will automatically be downloaded to your\n",
            "local data directory. If you'd instead prefer to read directly from our public\n",
            "GCS bucket (recommended if you're running on GCP), you can instead pass\n",
            "`try_gcs=True` to `tfds.load` or set `data_dir=gs://tfds-data/datasets`.\n",
            "\n"
          ],
          "name": "stderr"
        },
        {
          "output_type": "display_data",
          "data": {
            "application/vnd.jupyter.widget-view+json": {
              "model_id": "3a4bec18980d4070a8f6c6de9d765804",
              "version_minor": 0,
              "version_major": 2
            },
            "text/plain": [
              "HBox(children=(FloatProgress(value=0.0, description='Dl Completed...', max=12.0, style=ProgressStyle(descripti…"
            ]
          },
          "metadata": {
            "tags": []
          }
        },
        {
          "output_type": "stream",
          "text": [
            "\n",
            "\n",
            "\u001b[1mDataset genomics_ood downloaded and prepared to /root/tensorflow_datasets/genomics_ood/0.0.1. Subsequent calls will reuse this data.\u001b[0m\n"
          ],
          "name": "stdout"
        }
      ]
    },
    {
      "cell_type": "markdown",
      "metadata": {
        "id": "-VdR4wfkNETN"
      },
      "source": [
        "Let's take a look at the first element and how it looks"
      ]
    },
    {
      "cell_type": "code",
      "metadata": {
        "id": "RCmBgDG2ynEc",
        "colab": {
          "base_uri": "https://localhost:8080/"
        },
        "outputId": "332c07cb-9428-4c45-b4ad-aba6c3e853b1"
      },
      "source": [
        "for elem in train_data.take(1):\n",
        "  print(elem[0])\n",
        "  print(elem[1])"
      ],
      "execution_count": 3,
      "outputs": [
        {
          "output_type": "stream",
          "text": [
            "tf.Tensor(b'AAACTATGTTATATTCACGATGATTAACTTACAAAGGAGTTTCAACTATGAAGATGATAAACAAATTAATCGTTCCGGTAACAGCTAGTGCTTTATTATTAGGCGCTTGTGGCGCTAGTGCCACAGACTCTAAAGAAAATACATTAATTTCTTCTAAAGCTGGAGACGTAACAGTTGCAGATACAATGAAAAAAATCGGTAAAGATCAAATTGCAAATGCATCATTTACTGAAATGTTAAATAAAATTTT', shape=(), dtype=string)\n",
            "tf.Tensor(7, shape=(), dtype=int64)\n"
          ],
          "name": "stdout"
        }
      ]
    },
    {
      "cell_type": "markdown",
      "metadata": {
        "id": "4XrF9lP1MGCJ"
      },
      "source": [
        "##1.2 Transforming the Tensor"
      ]
    },
    {
      "cell_type": "markdown",
      "metadata": {
        "id": "JfTtIuMkfuW1"
      },
      "source": [
        "Because the sequences are string tensors, we cannot\n",
        "simply call tf.one hot(x,4) on them. Therefore we need a function which converts the string tensor into a usable tensor that contains the one-hot-encoded sequence. \n",
        "\n",
        "We also apply one-hot-encoding on the labels. "
      ]
    },
    {
      "cell_type": "code",
      "metadata": {
        "id": "gP12pp7QL43T"
      },
      "source": [
        "def onehotify(tensor):\n",
        "  \"\"\"onehotify(tensor) transforms genomic sequences formerly saved as string tensor into one hot encodinged vectors of those tensors\n",
        "  \"\"\"\n",
        "\n",
        "  #replace the characters with the numbers from 0 to three\n",
        "  vocab = {\"A\":\"1\", \"C\": \"2\", \"G\":\"3\", \"T\":\"0\"} \n",
        "  for key in vocab.keys():\n",
        "    tensor = tf.strings.regex_replace(tensor, key, vocab[key])\n",
        "  \n",
        "  #Next we split after every number and cast the characters to numbers\n",
        "  split = tf.strings.bytes_split(tensor)\n",
        "  labels = tf.cast(tf.strings.to_number(split), tf.uint8)\n",
        "\n",
        "  #next we compute the one_hot encodings and reshape it\n",
        "  onehot = tf.one_hot(labels, 4)\n",
        "  onehot = tf.reshape(onehot, (-1,))\n",
        "  return onehot"
      ],
      "execution_count": 4,
      "outputs": []
    },
    {
      "cell_type": "markdown",
      "metadata": {
        "id": "gt_kDbttNp8f"
      },
      "source": [
        "This next block of code describes the process of splitting the dataset creating the one hot vectors and"
      ]
    },
    {
      "cell_type": "code",
      "metadata": {
        "id": "RRhcCwLLNppg"
      },
      "source": [
        "#since we imported our sequenzes and labels as tupel and later have to work with them seperably we did split them up this way. \n",
        "#We thought about different ways of doing this, but could not come up with an easier way to split them up.\n",
        "#Warning: It is not realy fast, but it works!\n",
        "train_data_seq = [x for (x,y) in train_data]\n",
        "train_data_labels = [y for (x,y) in train_data]\n",
        "\n",
        "test_data_seq = [x for (x,y) in test_data]\n",
        "test_data_labels = [y for (x,y) in test_data]\n",
        "\n",
        "\n",
        "\n",
        "\n",
        "#We now create new tensors from the arrays above and create the one-hot encoded versions. \n",
        "#we repeat this process for every array of the above\n",
        "\n",
        "#training data\n",
        "train_data_seq = tf.data.Dataset.from_tensor_slices(train_data_seq)       \n",
        "train_data_seq = train_data_seq.map(lambda seq:onehotify(seq))           \n",
        "train_data_labels = tf.data.Dataset.from_tensor_slices(train_data_labels) \n",
        "train_data_labels = train_data_labels.map(lambda t:tf.one_hot(t,10))\n",
        "#testing data\n",
        "test_data_seq = tf.data.Dataset.from_tensor_slices(test_data_seq)\n",
        "test_data_seq = test_data_seq.map(lambda seq:onehotify(seq))\n",
        "test_data_labels = tf.data.Dataset.from_tensor_slices(test_data_labels)\n",
        "test_data_labels = test_data_labels.map(lambda t:tf.one_hot(t,10))\n",
        "\n",
        "\n",
        "#We now zip,batch and shuffle the training/testing dataset\n",
        "train_dataset = tf.data.Dataset.zip((train_data_seq, train_data_labels))\n",
        "train_dataset = train_dataset.batch(1000)\n",
        "train_dataset = train_dataset.shuffle(buffer_size = 128)\n",
        "\n",
        "test_dataset = tf.data.Dataset.zip((test_data_seq, test_data_labels))\n",
        "test_dataset = test_dataset.batch(1000)\n",
        "test_dataset = test_dataset.shuffle(buffer_size = 128)"
      ],
      "execution_count": 5,
      "outputs": []
    },
    {
      "cell_type": "markdown",
      "metadata": {
        "id": "jpZSdzKS0s7N"
      },
      "source": [
        "#2. Model"
      ]
    },
    {
      "cell_type": "markdown",
      "metadata": {
        "id": "xXt2R8lMN1Zc"
      },
      "source": [
        "This model has:\n",
        "\n",
        "*   Hidden layer 1: 256 units. With sigmoid activation function.\n",
        "*   Hidden layer 2: 256 units. With sigmoid activation function.\n",
        "*   Output: 10 units. With softmax activation function.\n",
        "\n",
        "\n",
        "\n",
        "\n",
        "Output: 10 units. With softmax activation function.\n",
        "\n"
      ]
    },
    {
      "cell_type": "code",
      "metadata": {
        "id": "HmOX6b6ztGN8"
      },
      "source": [
        "#Implemention of a simple fully connected feed forward neural network.\n",
        "\n",
        "from tensorflow.keras import Model\n",
        "from tensorflow.keras.layers import Layer\n",
        "\n",
        "class Model(Model): \n",
        "    \n",
        "    def __init__(self):\n",
        "        super(Model, self).__init__()\n",
        "        # Define the three layers.\n",
        "        self.hidden_layer_1 = tf.keras.layers.Dense(\n",
        "                                                units=256,                              #256 units. With sigmoid activation function.\n",
        "                                                activation=tf.keras.activations.sigmoid #Sigmoid as activation function\n",
        "                                                )\n",
        "        self.hidden_layer_2 = tf.keras.layers.Dense(\n",
        "                                                units=256,                              #256 units. With sigmoid activation function.\n",
        "                                                activation=tf.keras.activations.sigmoid #Sigmoid as activation function\n",
        "                                                )\n",
        "        self.output_layer = tf.keras.layers.Dense(\n",
        "                                                units=10,                               #10 units \n",
        "                                                activation=tf.keras.activations.softmax #Softmax as activation function\n",
        "                                                )\n",
        "    def call(self, x):\n",
        "        # Define the forward step.\n",
        "        x = self.hidden_layer_1(x)\n",
        "        x = self.hidden_layer_2(x)  #usig the output of the last layer as input of the next.\n",
        "        x = self.output_layer(x)    #usig the output of the last layer as input of the next.\n",
        "        return x"
      ],
      "execution_count": 6,
      "outputs": []
    },
    {
      "cell_type": "markdown",
      "metadata": {
        "id": "WyLml1Yb0yp7"
      },
      "source": [
        "#3. Training"
      ]
    },
    {
      "cell_type": "markdown",
      "metadata": {
        "id": "7-epbGdrQWZ4"
      },
      "source": [
        "Here are some general parameters, that we will need for the training."
      ]
    },
    {
      "cell_type": "code",
      "metadata": {
        "id": "u4dmYh8O01oT"
      },
      "source": [
        "#General Parameters\n",
        "trainforNepochs=10                                      \n",
        "learning_rate=0.1                                       \n",
        "running_average_factor = 0.95                           \n",
        "lossfunction= tf.keras.losses.CategoricalCrossentropy() #we use categorical cross entropy as lossfunction\n",
        "optimizer = tf.keras.optimizers.SGD(learning_rate)      #we use SGD as optimizer\n",
        "\n",
        "model = Model()                                         #As model we want to use the model from above"
      ],
      "execution_count": 7,
      "outputs": []
    },
    {
      "cell_type": "markdown",
      "metadata": {
        "id": "Lk-IpgB3Q6hk"
      },
      "source": [
        "To train our model we first have to define our train step and our test"
      ]
    },
    {
      "cell_type": "code",
      "metadata": {
        "id": "5NWbybBmPWk_"
      },
      "source": [
        "def train_step(model, input, target, loss_function, optimizer):\n",
        "  # loss_object and optimizer_object are instances of respective tensorflow classes\n",
        "  with tf.GradientTape() as tape: #we safe the loss in the gradient tape \n",
        "    prediction = model(input)\n",
        "    loss = loss_function(target, prediction)\n",
        "    gradients = tape.gradient(loss, model.trainable_variables)\n",
        "  optimizer.apply_gradients(zip(gradients, model.trainable_variables))\n",
        "  return loss \n",
        "\n",
        "def test(model, test_data, loss_function):\n",
        "  # test over complete test data\n",
        "\n",
        "  test_accuracy_aggregator = []\n",
        "  test_loss_aggregator = []\n",
        "\n",
        "  for (input, target) in test_data:\n",
        "    prediction = model(input)\n",
        "    sample_test_loss = loss_function(target, prediction)\n",
        "    sample_test_accuracy =  np.argmax(target, axis=1) == np.argmax(prediction, axis=1)\n",
        "    sample_test_accuracy = np.mean(sample_test_accuracy)\n",
        "    test_loss_aggregator.append(sample_test_loss.numpy())\n",
        "    test_accuracy_aggregator.append(np.mean(sample_test_accuracy))\n",
        "\n",
        "  test_loss = np.mean(test_loss_aggregator)\n",
        "  test_accuracy = np.mean(test_accuracy_aggregator)\n",
        "\n",
        "  return test_loss, test_accuracy\n",
        "  \n"
      ],
      "execution_count": 8,
      "outputs": []
    },
    {
      "cell_type": "markdown",
      "metadata": {
        "id": "E2u-SuPQQeIO"
      },
      "source": [
        "Since we want to visualize them later, we start collectiong data on accuracy and loss for training and test-data."
      ]
    },
    {
      "cell_type": "code",
      "metadata": {
        "id": "OU27BcZ5QybE"
      },
      "source": [
        "# Initialize lists for later visualization.\n",
        "train_losses = []\n",
        "test_losses = []\n",
        "test_accuracies = []\n",
        "\n",
        "#testing once before we begin, so that be have the first datapoints\n",
        "test_loss, test_accuracy = test(model, test_dataset, lossfunction)\n",
        "test_losses.append(test_loss)\n",
        "test_accuracies.append(test_accuracy)\n",
        "\n",
        "#check how model performs on train data once before we begin, so that we have a baseline\n",
        "train_loss, _ = test(model, train_dataset, lossfunction)\n",
        "train_losses.append(train_loss)"
      ],
      "execution_count": 9,
      "outputs": []
    },
    {
      "cell_type": "markdown",
      "metadata": {
        "id": "Zx5fHWTCRDR1"
      },
      "source": [
        "Now we actually start training the Model"
      ]
    },
    {
      "cell_type": "code",
      "metadata": {
        "id": "eO6ZmgtaRFD_",
        "colab": {
          "base_uri": "https://localhost:8080/"
        },
        "outputId": "76a73e8f-1f12-48f9-a897-1f2abf896791"
      },
      "source": [
        "# We train for trainforNepochs epochs.\n",
        "for epoch in range(trainforNepochs):\n",
        "\n",
        "    #just some fun runtime approximation :D\n",
        "    if epoch == 0:\n",
        "      start = time.time()\n",
        "      time_remaining=\"Unknown\"\n",
        "    else:\n",
        "      now = time.time()\n",
        "      time_per_epoch = ((now-start)/epoch)                      #average of the time per epoch\n",
        "      remaining_epochs = trainforNepochs-epoch                  #numbers of remaining epochs\n",
        "      time_remaining = round(time_per_epoch*remaining_epochs,0)\n",
        "    print('Epoch:',str(epoch),\"of\",str(trainforNepochs)+\". Time remaining:\", time_remaining, \"seconds\")\n",
        "\n",
        "\n",
        "\n",
        "    #shuffling the data\n",
        "    train_dataset = train_dataset.shuffle(buffer_size=128)\n",
        "    test_dataset = test_dataset.shuffle(buffer_size=128)\n",
        "\n",
        "    #training (and checking in with training)\n",
        "    running_average = 0\n",
        "    for (input,target) in train_dataset: #Training the model\n",
        "        train_loss = train_step(model, input, target, lossfunction, optimizer)\n",
        "        running_average = running_average_factor * running_average  + (1 - running_average_factor) * train_loss\n",
        "    train_losses.append(running_average)\n",
        "\n",
        "    #testing how good the model performed in the current step\n",
        "    test_loss, test_accuracy = test(model, test_dataset, lossfunction)\n",
        "    test_losses.append(test_loss)#35:50\n",
        "    test_accuracies.append(test_accuracy)\n",
        "\n",
        "now = time.time()\n",
        "\n",
        "print(\"Finished after\",round(now-start,0),\"seconds.\")"
      ],
      "execution_count": 10,
      "outputs": [
        {
          "output_type": "stream",
          "text": [
            "Epoch: 0 of 10. Time remaining: Unknown seconds\n",
            "Epoch: 1 of 10. Time remaining: 183.0 seconds\n",
            "Epoch: 2 of 10. Time remaining: 162.0 seconds\n",
            "Epoch: 3 of 10. Time remaining: 141.0 seconds\n",
            "Epoch: 4 of 10. Time remaining: 120.0 seconds\n",
            "Epoch: 5 of 10. Time remaining: 100.0 seconds\n",
            "Epoch: 6 of 10. Time remaining: 80.0 seconds\n",
            "Epoch: 7 of 10. Time remaining: 60.0 seconds\n",
            "Epoch: 8 of 10. Time remaining: 40.0 seconds\n",
            "Epoch: 9 of 10. Time remaining: 20.0 seconds\n",
            "Finished after 198.0 seconds.\n"
          ],
          "name": "stdout"
        }
      ]
    },
    {
      "cell_type": "markdown",
      "metadata": {
        "id": "SHaZ_KCcRklB"
      },
      "source": [
        "#4. Visualisation"
      ]
    },
    {
      "cell_type": "markdown",
      "metadata": {
        "id": "JlMXpN0yRrdB"
      },
      "source": [
        "Now lets Visualize the loss!"
      ]
    },
    {
      "cell_type": "code",
      "metadata": {
        "id": "-87zWukqRo00",
        "colab": {
          "base_uri": "https://localhost:8080/",
          "height": 280
        },
        "outputId": "6abb438c-252f-43e3-faba-8799ee8b263f"
      },
      "source": [
        "# Visualize accuracy and loss for training and test data. \n",
        "# One plot training and test loss.\n",
        "\n",
        "plt.figure()\n",
        "line1, = plt.plot(train_losses)\n",
        "line2, = plt.plot(test_losses)\n",
        "plt.xlabel(\"Training steps\")\n",
        "plt.ylabel(\"Loss\")\n",
        "plt.legend((line1,line2),(\"training\",\"test\"))\n",
        "plt.show()"
      ],
      "execution_count": 11,
      "outputs": [
        {
          "output_type": "display_data",
          "data": {
            "image/png": "[encoded data removed]",
            "text/plain": [
              "<Figure size 432x288 with 1 Axes>"
            ]
          },
          "metadata": {
            "tags": [],
            "needs_background": "light"
          }
        }
      ]
    },
    {
      "cell_type": "markdown",
      "metadata": {
        "id": "Gul9YxH4Rxv9"
      },
      "source": [
        "Finally: The Accuracy"
      ]
    },
    {
      "cell_type": "code",
      "metadata": {
        "id": "nGmDJFF3R2BJ",
        "colab": {
          "base_uri": "https://localhost:8080/",
          "height": 279
        },
        "outputId": "0d832c45-6dc3-444e-d2b8-2c28e066bbb4"
      },
      "source": [
        "# One plot training and test accuracy.\n",
        "plt.figure()\n",
        "line1, = plt.plot(test_accuracies)\n",
        "plt.xlabel(\"Training steps\")\n",
        "plt.ylabel(\"Accuracy\")\n",
        "plt.show()"
      ],
      "execution_count": 12,
      "outputs": [
        {
          "output_type": "display_data",
          "data": {
            "image/png": "[encoded data removed]",
            "text/plain": [
              "<Figure size 432x288 with 1 Axes>"
            ]
          },
          "metadata": {
            "tags": [],
            "needs_background": "light"
          }
        }
      ]
    },
    {
      "cell_type": "code",
      "metadata": {
        "id": "iTE3jtHtld0S"
      },
      "source": [
        ""
      ],
      "execution_count": 12,
      "outputs": []
    }
  ]
}